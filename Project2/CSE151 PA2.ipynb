{
 "cells": [
  {
   "cell_type": "markdown",
   "metadata": {},
   "source": [
    "# Result"
   ]
  },
  {
   "cell_type": "markdown",
   "metadata": {},
   "source": [
    "# Question 1"
   ]
  },
  {
   "cell_type": "markdown",
   "metadata": {},
   "source": [
    "<img src=\"files/question1.png\">"
   ]
  },
  {
   "cell_type": "markdown",
   "metadata": {},
   "source": [
    "# Question 2"
   ]
  },
  {
   "cell_type": "markdown",
   "metadata": {},
   "source": [
    "Train Error:  0.0\n",
    "    \n",
    "Test Error:  0.173"
   ]
  },
  {
   "cell_type": "markdown",
   "metadata": {},
   "source": [
    "# Question 3"
   ]
  },
  {
   "cell_type": "markdown",
   "metadata": {},
   "source": [
    "1  Round Validation Error:  0.122\n",
    "\n",
    "1  Round Test Error:  0.117\n",
    "\n",
    "\n",
    "2  Round Validation Error:  0.107\n",
    "\n",
    "2  Round Test Error:  0.103"
   ]
  },
  {
   "cell_type": "markdown",
   "metadata": {},
   "source": [
    "# Question 4"
   ]
  },
  {
   "cell_type": "markdown",
   "metadata": {},
   "source": [
    "PAYMENT_DELAY_SEPTEMBER"
   ]
  },
  {
   "cell_type": "markdown",
   "metadata": {},
   "source": [
    "# Code"
   ]
  },
  {
   "cell_type": "markdown",
   "metadata": {},
   "source": [
    "# Package and Reading File"
   ]
  },
  {
   "cell_type": "code",
   "execution_count": 1,
   "metadata": {},
   "outputs": [],
   "source": [
    "import numpy as np"
   ]
  },
  {
   "cell_type": "code",
   "execution_count": 2,
   "metadata": {},
   "outputs": [],
   "source": [
    "f = open(\"pa2train.txt\",\"r\")\n",
    "train = [l.strip() for l in f]\n",
    "train = [[float(each) for each in l.split()] for l in train]\n",
    "\n",
    "f = open('pa2test.txt', 'r')\n",
    "test = [l.strip() for l in f]\n",
    "test = [[float(each) for each in l.split()] for l in test]\n",
    "\n",
    "f = open('pa2validation.txt', 'r')\n",
    "validate = [l.strip() for l in f]\n",
    "validate = [[float(each) for each in l.split()] for l in validate]\n",
    "\n",
    "f = open(\"pa2features.txt\",\"r\")\n",
    "feature = [l.strip() for l in f]"
   ]
  },
  {
   "cell_type": "markdown",
   "metadata": {},
   "source": [
    "# Class and Functions"
   ]
  },
  {
   "cell_type": "code",
   "execution_count": 3,
   "metadata": {},
   "outputs": [],
   "source": [
    "class ID3Node:\n",
    "    def __init__(self, Set = None, rule = None, pure = False, \n",
    "                 y = None,n = None, label = 0 ):\n",
    "        self.Set = Set\n",
    "        self.rule = rule\n",
    "        self.pure = pure\n",
    "        self.y = y\n",
    "        self.n = n\n",
    "        self.label = None"
   ]
  },
  {
   "cell_type": "code",
   "execution_count": 4,
   "metadata": {},
   "outputs": [],
   "source": [
    "def cal_entropy(f, i, t, num):\n",
    "    y0 = sum([p1 >= t for p1,p2 in f[i]])\n",
    "    y1 = num - y0\n",
    "    \n",
    "    pr_y0x0 = sum([p1 >= t and p2 == 0 for p1,p2 in f[i]])/y0\n",
    "    pr_y0x1 = 1 - pr_y0x0\n",
    "    \n",
    "    pr_y1x0 = sum([p1 <= t and p2 == 0 for p1,p2 in f[i]])/y1\n",
    "    pr_y1x1 = 1 - pr_y1x0\n",
    "    \n",
    "    if (pr_y0x0 != 0 and pr_y0x1 != 0):\n",
    "        h_y0 = -pr_y0x0*np.log(pr_y0x0)-pr_y0x1*np.log(pr_y0x1)\n",
    "    else:\n",
    "        h_y0 = 0\n",
    "    \n",
    "    if (pr_y1x0 != 0 and pr_y1x1 != 0):\n",
    "        h_y1 = -pr_y1x0*np.log(pr_y1x0)-pr_y1x1*np.log(pr_y1x1)\n",
    "    else:\n",
    "        h_y1 = 0\n",
    "    \n",
    "    h = y0 / num * h_y0 + y1 / num * h_y1\n",
    "    \n",
    "    return h"
   ]
  },
  {
   "cell_type": "code",
   "execution_count": 5,
   "metadata": {},
   "outputs": [],
   "source": [
    "def optimal(Set):\n",
    "    features = [[(l[i],l[-1]) for l in Set] for i in range(22)]\n",
    "    features = [sorted(l) for l in features]\n",
    "    \n",
    "    l = []\n",
    "    for i in range(22):\n",
    "        s = []\n",
    "        for j in range(1,len(Set), 1):\n",
    "            if features[i][j-1][0] < features[i][j][0]:\n",
    "                s += [(features[i][j-1][0] + features[i][j][0])/2]\n",
    "        l += [s]\n",
    "    \n",
    "    entropy = []\n",
    "    for i in range(22):\n",
    "        for j in l[i]:\n",
    "            entropy += [(cal_entropy(features,i,j,len(Set)),i,j)]\n",
    "    optimal = min(entropy)[1:]\n",
    "\n",
    "    return optimal"
   ]
  },
  {
   "cell_type": "code",
   "execution_count": 6,
   "metadata": {},
   "outputs": [],
   "source": [
    "def build_tree()->ID3Node:\n",
    "    root = ID3Node(Set = train)\n",
    "    tree = [root]\n",
    "\n",
    "    while(len(tree) != 0 ):\n",
    "        n = tree.pop(0)\n",
    "    \n",
    "        n.rule = optimal(n.Set)\n",
    "        i,t = n.rule\n",
    "    \n",
    "        setr = [l for l in n.Set if l[i] >= t]\n",
    "        nr = ID3Node(Set = setr)\n",
    "   \n",
    "        setl = [l for l in n.Set if l[i] < t]\n",
    "        nl = ID3Node(Set = setl)\n",
    "    \n",
    "        n.y = nl\n",
    "        n.n = nr\n",
    "    \n",
    "        if sum([l[-1] == 0 for l in setr]) == 0:\n",
    "            nr.pure = True\n",
    "            nr.label = 1\n",
    "        elif sum([l[-1] == 1 for l in setr]) == 0:\n",
    "            nr.pure = True\n",
    "            nr.label = 0\n",
    "        else:\n",
    "            tree.append(nr)\n",
    "        \n",
    "        if sum([l[-1] == 0 for l in setl]) == 0:\n",
    "            nl.pure = True\n",
    "            nl.label = 1\n",
    "        elif sum([l[-1] == 1 for l in setl]) == 0:\n",
    "            nl.pure = True\n",
    "            nl.label = 0\n",
    "        else:\n",
    "            tree.append(nl)\n",
    "    return root"
   ]
  },
  {
   "cell_type": "code",
   "execution_count": 7,
   "metadata": {},
   "outputs": [],
   "source": [
    "def traverse(node, l):\n",
    "    n = node\n",
    "    while(not n.pure):\n",
    "        i, t = n.rule\n",
    "        if(l[i] >= t):\n",
    "            n = n.n\n",
    "        else:\n",
    "            n = n.y\n",
    "    return n.label"
   ]
  },
  {
   "cell_type": "code",
   "execution_count": 8,
   "metadata": {},
   "outputs": [],
   "source": [
    "def prune():\n",
    "    i = 0\n",
    "    root = build_tree()\n",
    "    q = [root]\n",
    "\n",
    "    while(not len(q) == 0):\n",
    "        n = q.pop(0)\n",
    "        validate_traverse = []\n",
    "        for each in validate:\n",
    "            validate_traverse.append(traverse(root, each))\n",
    "        validate_diff = sum([validate_traverse[i] != validate[i][-1] for i in range(len(validate))])\n",
    "        validate_error = validate_diff / len(validate)\n",
    "    \n",
    "        if(n.pure): continue\n",
    "    \n",
    "        n.label = sum([l[-1] == 1 for l in n.Set]) > sum([l[-1] == 0 for l in n.Set])\n",
    "        n.pure = True\n",
    "    \n",
    "        validate2_traverse = []\n",
    "        for each in validate:\n",
    "            validate2_traverse.append(traverse(root, each))\n",
    "        validate2_diff = sum([validate2_traverse[i] != validate[i][-1] for i in range(len(validate))])\n",
    "        validate2_error = validate2_diff / len(validate)\n",
    "    \n",
    "        if validate2_error <= validate_error:\n",
    "            i += 1\n",
    "            print(i, \" Round Validation Error: \", validate2_error)\n",
    "        \n",
    "            test2_traverse = []\n",
    "            for each in test:\n",
    "                test2_traverse.append(traverse(root, each))\n",
    "            test2_diff = sum([test2_traverse[i] != test[i][-1] for i in range(len(test))])\n",
    "            test2_error = test2_diff / len(test)\n",
    "            print(i, \" Round Test Error: \", test2_error)\n",
    "        else:\n",
    "            n.label = None\n",
    "            n.pure = False\n",
    "            q.append(n.y)\n",
    "            q.append(n.n)"
   ]
  },
  {
   "cell_type": "markdown",
   "metadata": {},
   "source": [
    "# Question1"
   ]
  },
  {
   "cell_type": "code",
   "execution_count": 9,
   "metadata": {},
   "outputs": [],
   "source": [
    "root = build_tree()"
   ]
  },
  {
   "cell_type": "code",
   "execution_count": 10,
   "metadata": {},
   "outputs": [
    {
     "name": "stdout",
     "output_type": "stream",
     "text": [
      "ID3 Decision Tree Level 1:\n",
      "(4, 0.5) 2000\n"
     ]
    }
   ],
   "source": [
    "print(\"ID3 Decision Tree Level 1:\")\n",
    "print(root.rule, len(root.Set))"
   ]
  },
  {
   "cell_type": "code",
   "execution_count": 11,
   "metadata": {},
   "outputs": [
    {
     "name": "stdout",
     "output_type": "stream",
     "text": [
      "ID3 Decision Tree Level 2:\n",
      "(0, 415000.0) 1319\n",
      "(4, 1.5) 681\n"
     ]
    }
   ],
   "source": [
    "print(\"ID3 Decision Tree Level 2:\")\n",
    "print(root.y.rule, len(root.y.Set))\n",
    "print(root.n.rule, len(root.n.Set))"
   ]
  },
  {
   "cell_type": "code",
   "execution_count": 12,
   "metadata": {},
   "outputs": [
    {
     "name": "stdout",
     "output_type": "stream",
     "text": [
      "ID3 Decision Tree Level 3:\n",
      "(16, 2506.5) 1284\n",
      "(20, 208.0) 35\n",
      "(19, 584.5) 292\n",
      "(20, 2006.0) 389\n"
     ]
    }
   ],
   "source": [
    "print(\"ID3 Decision Tree Level 3:\")\n",
    "print(root.y.y.rule, len(root.y.y.Set))\n",
    "print(root.y.n.rule, len(root.y.n.Set))\n",
    "print(root.n.y.rule, len(root.n.y.Set))\n",
    "print(root.n.n.rule, len(root.n.n.Set))"
   ]
  },
  {
   "cell_type": "markdown",
   "metadata": {},
   "source": [
    "# Question2"
   ]
  },
  {
   "cell_type": "code",
   "execution_count": 13,
   "metadata": {},
   "outputs": [],
   "source": [
    "train_traverse = []\n",
    "for each in train:\n",
    "    train_traverse.append(traverse(root, each))\n",
    "test_traverse = []\n",
    "for each in test:\n",
    "    test_traverse.append(traverse(root, each))"
   ]
  },
  {
   "cell_type": "code",
   "execution_count": 14,
   "metadata": {},
   "outputs": [],
   "source": [
    "train_diff = sum([train_traverse[i] != train[i][-1] for i in range(len(train))])\n",
    "train_error = train_diff / len(train)"
   ]
  },
  {
   "cell_type": "code",
   "execution_count": 15,
   "metadata": {},
   "outputs": [],
   "source": [
    "test_diff = sum([test_traverse[i] != test[i][-1] for i in range(len(test))])\n",
    "test_error = test_diff / len(test)"
   ]
  },
  {
   "cell_type": "code",
   "execution_count": 16,
   "metadata": {},
   "outputs": [
    {
     "name": "stdout",
     "output_type": "stream",
     "text": [
      "Train Error:  0.0\n"
     ]
    }
   ],
   "source": [
    "print(\"Train Error: \", train_error)"
   ]
  },
  {
   "cell_type": "code",
   "execution_count": 17,
   "metadata": {},
   "outputs": [
    {
     "name": "stdout",
     "output_type": "stream",
     "text": [
      "Test Error:  0.173\n"
     ]
    }
   ],
   "source": [
    "print(\"Test Error: \", test_error)"
   ]
  },
  {
   "cell_type": "markdown",
   "metadata": {},
   "source": [
    "# Question3"
   ]
  },
  {
   "cell_type": "code",
   "execution_count": 18,
   "metadata": {},
   "outputs": [
    {
     "name": "stdout",
     "output_type": "stream",
     "text": [
      "1  Round Validation Error:  0.122\n",
      "1  Round Test Error:  0.117\n",
      "2  Round Validation Error:  0.107\n",
      "2  Round Test Error:  0.103\n"
     ]
    }
   ],
   "source": [
    "prune()"
   ]
  },
  {
   "cell_type": "markdown",
   "metadata": {},
   "source": [
    "# Question4"
   ]
  },
  {
   "cell_type": "code",
   "execution_count": 19,
   "metadata": {},
   "outputs": [
    {
     "data": {
      "text/plain": [
       "'PAYMENT_DELAY_SEPTEMBER'"
      ]
     },
     "execution_count": 19,
     "metadata": {},
     "output_type": "execute_result"
    }
   ],
   "source": [
    "feature[root.rule[0]]"
   ]
  }
 ],
 "metadata": {
  "kernelspec": {
   "display_name": "Python 3",
   "language": "python",
   "name": "python3"
  },
  "language_info": {
   "codemirror_mode": {
    "name": "ipython",
    "version": 3
   },
   "file_extension": ".py",
   "mimetype": "text/x-python",
   "name": "python",
   "nbconvert_exporter": "python",
   "pygments_lexer": "ipython3",
   "version": "3.7.4"
  }
 },
 "nbformat": 4,
 "nbformat_minor": 2
}
