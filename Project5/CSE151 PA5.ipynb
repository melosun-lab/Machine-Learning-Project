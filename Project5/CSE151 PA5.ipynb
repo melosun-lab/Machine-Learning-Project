{
 "cells": [
  {
   "cell_type": "markdown",
   "metadata": {},
   "source": [
    "# Result"
   ]
  },
  {
   "cell_type": "markdown",
   "metadata": {},
   "source": [
    "# Question 1"
   ]
  },
  {
   "cell_type": "markdown",
   "metadata": {},
   "source": [
    "t = 3\n",
    "\n",
    "Train Error:  0.06444444444444444\n",
    "\n",
    "Test Error:  0.03875968992248062\n",
    "\n",
    "t = 7\n",
    "\n",
    "Train Error:  0.028888888888888888\n",
    "\n",
    "Test Error:  0.031007751937984496\n",
    "\n",
    "t = 10\n",
    "\n",
    "Train Error:  0.015555555555555555\n",
    "\n",
    "Test Error:  0.03875968992248062\n",
    "\n",
    "t = 15\n",
    "\n",
    "Train Error:  0.0\n",
    "\n",
    "Test Error:  0.023255813953488372\n",
    "\n",
    "t = 20\n",
    "\n",
    "Train Error:  0.0\n",
    "\n",
    "Test Error:  0.023255813953488372"
   ]
  },
  {
   "cell_type": "markdown",
   "metadata": {},
   "source": [
    "# Question 2"
   ]
  },
  {
   "cell_type": "markdown",
   "metadata": {},
   "source": [
    "The words corresponding to the weak learners chosen in the\n",
    "first 10 rounds of boosting based on the dictionary file are: 'remove', 'language', 'free', 'university', 'money', 'linguistic', 'click', 'fax', 'want', 'de'."
   ]
  },
  {
   "cell_type": "markdown",
   "metadata": {},
   "source": [
    "# Code"
   ]
  },
  {
   "cell_type": "markdown",
   "metadata": {},
   "source": [
    "# Import Packages and Read Files"
   ]
  },
  {
   "cell_type": "code",
   "execution_count": 37,
   "metadata": {},
   "outputs": [],
   "source": [
    "import numpy as np\n",
    "import math as ma"
   ]
  },
  {
   "cell_type": "code",
   "execution_count": 38,
   "metadata": {},
   "outputs": [],
   "source": [
    "train = open(\"pa5train.txt\", \"r\")\n",
    "train = [[int(i) for i in l.strip().split()] for l in train]"
   ]
  },
  {
   "cell_type": "code",
   "execution_count": 39,
   "metadata": {},
   "outputs": [],
   "source": [
    "test = open(\"pa5test.txt\", \"r\")\n",
    "test = [[int(i) for i in l.strip().split()] for l in test]"
   ]
  },
  {
   "cell_type": "code",
   "execution_count": 57,
   "metadata": {},
   "outputs": [],
   "source": [
    "dictionary = open(\"pa5dictionary.txt\", \"r\")\n",
    "dictionary = [l.strip() for l in dictionary]"
   ]
  },
  {
   "cell_type": "markdown",
   "metadata": {},
   "source": [
    "# Functions"
   ]
  },
  {
   "cell_type": "code",
   "execution_count": 40,
   "metadata": {},
   "outputs": [],
   "source": [
    "def get_h(data, i, sign):\n",
    "    return [(1 if l[i] else -1) * sign for l in data]"
   ]
  },
  {
   "cell_type": "code",
   "execution_count": 41,
   "metadata": {},
   "outputs": [],
   "source": [
    "def get_error(data, h, d):\n",
    "    return np.dot([h[i] != data[i][-1] for i in range(len(h))], d)"
   ]
  },
  {
   "cell_type": "code",
   "execution_count": 42,
   "metadata": {},
   "outputs": [],
   "source": [
    "def get_alpha(error):\n",
    "    return 1/2 * ma.log((1 - error) / error)"
   ]
  },
  {
   "cell_type": "code",
   "execution_count": 54,
   "metadata": {},
   "outputs": [],
   "source": [
    "def get_report(data, boost):\n",
    "    count = 0\n",
    "    for l in data:\n",
    "        sum = 0\n",
    "        for(alpha, i, sign) in boost:\n",
    "            h = sign if l[i] else -sign\n",
    "            sum += alpha * h\n",
    "        count += 1 if sum * l[-1] < 0 else 0\n",
    "    return count / len(data)"
   ]
  },
  {
   "cell_type": "code",
   "execution_count": 55,
   "metadata": {},
   "outputs": [],
   "source": [
    "def boosting(data, t):\n",
    "    boost = []\n",
    "    D = len(data) * [1 / len(data)]\n",
    "    \n",
    "    for e in range(t):\n",
    "        errors = [(get_error(data, get_h(data, i, s), D), i, s) for i in range(4003) for s in [1, -1]]\n",
    "        error, index, sign = min(errors)\n",
    "        if error >= 0.5: break\n",
    "        alpha = get_alpha(error)\n",
    "        h = get_h(data, index, sign)\n",
    "        \n",
    "        temp = []\n",
    "        for i in range(len(D)):\n",
    "            temp += [D[i] * ma.exp(data[i][-1] * h[i] * alpha * -1)]\n",
    "        D = temp\n",
    "        \n",
    "        sum_D = sum(D)\n",
    "        D = [D[i] / sum_D for i in range(len(D))]\n",
    "        boost += [(alpha, index, sign)]\n",
    "    \n",
    "    return boost"
   ]
  },
  {
   "cell_type": "markdown",
   "metadata": {},
   "source": [
    "# Question 1"
   ]
  },
  {
   "cell_type": "code",
   "execution_count": 59,
   "metadata": {
    "scrolled": true
   },
   "outputs": [
    {
     "name": "stdout",
     "output_type": "stream",
     "text": [
      "t = 3\n",
      "Train Error:  0.06444444444444444\n",
      "Test Error:  0.03875968992248062\n",
      "t = 4\n",
      "Train Error:  0.051111111111111114\n",
      "Test Error:  0.03875968992248062\n",
      "t = 7\n",
      "Train Error:  0.028888888888888888\n",
      "Test Error:  0.031007751937984496\n",
      "t = 10\n",
      "Train Error:  0.015555555555555555\n",
      "Test Error:  0.03875968992248062\n",
      "t = 15\n",
      "Train Error:  0.0\n",
      "Test Error:  0.023255813953488372\n",
      "t = 20\n",
      "Train Error:  0.0\n",
      "Test Error:  0.023255813953488372\n"
     ]
    }
   ],
   "source": [
    "for t in [3, 4, 7, 10, 15, 20]:\n",
    "    boost = boosting(train, t)\n",
    "    train_error = get_report(train, boost)\n",
    "    test_error = get_report(test, boost)\n",
    "    \n",
    "    print(\"t =\", t)\n",
    "    print(\"Train Error: \", train_error)\n",
    "    print(\"Test Error: \", test_error)    "
   ]
  },
  {
   "cell_type": "markdown",
   "metadata": {},
   "source": [
    "# Question 2"
   ]
  },
  {
   "cell_type": "code",
   "execution_count": 61,
   "metadata": {},
   "outputs": [
    {
     "name": "stdout",
     "output_type": "stream",
     "text": [
      "['remove', 'language', 'free', 'university', 'money', 'linguistic', 'click', 'fax', 'want', 'de']\n"
     ]
    }
   ],
   "source": [
    "boost = boosting(train, 10)\n",
    "words = []\n",
    "for error,index,sign in boost:\n",
    "    words += [dictionary[index]]\n",
    "print(words)"
   ]
  }
 ],
 "metadata": {
  "kernelspec": {
   "display_name": "Python 3",
   "language": "python",
   "name": "python3"
  },
  "language_info": {
   "codemirror_mode": {
    "name": "ipython",
    "version": 3
   },
   "file_extension": ".py",
   "mimetype": "text/x-python",
   "name": "python",
   "nbconvert_exporter": "python",
   "pygments_lexer": "ipython3",
   "version": "3.7.4"
  }
 },
 "nbformat": 4,
 "nbformat_minor": 2
}
