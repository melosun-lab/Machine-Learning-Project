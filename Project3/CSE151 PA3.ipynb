{
 "cells": [
  {
   "cell_type": "markdown",
   "metadata": {},
   "source": [
    "# Result"
   ]
  },
  {
   "cell_type": "markdown",
   "metadata": {},
   "source": [
    "# Question 1"
   ]
  },
  {
   "cell_type": "markdown",
   "metadata": {},
   "source": [
    "1 Pass Perception\n",
    "Train Error:  0.04036697247706422\n",
    "Test Error:  0.05305039787798409\n",
    "\n",
    "2 Pass Perception\n",
    "Train Error:  0.03853211009174312\n",
    "Test Error:  0.058355437665782495\n",
    "\n",
    "3 Pass Perception\n",
    "Train Error:  0.01926605504587156\n",
    "Test Error:  0.04509283819628647\n",
    "\n",
    "4 Pass Perception\n",
    "Train Error:  0.01834862385321101\n",
    "Test Error:  0.04774535809018567"
   ]
  },
  {
   "cell_type": "markdown",
   "metadata": {},
   "source": [
    "1 Pass Voted Perception\n",
    "Train Error:  0.06697247706422019\n",
    "Test Error:  0.08753315649867374\n",
    "\n",
    "2 Pass Voted Perception\n",
    "Train Error:  0.04036697247706422\n",
    "Test Error:  0.0610079575596817\n",
    "\n",
    "3 Pass Voted Perception\n",
    "Train Error:  0.030275229357798167\n",
    "Test Error:  0.04509283819628647\n",
    "\n",
    "4 Pass Voted Perception\n",
    "Train Error:  0.024770642201834864\n",
    "Test Error:  0.04509283819628647"
   ]
  },
  {
   "cell_type": "markdown",
   "metadata": {},
   "source": [
    "1 Pass Averaged Perception\n",
    "Train Error:  0.07889908256880734\n",
    "Test Error:  0.11671087533156499\n",
    "\n",
    "2 Pass Averaged Perception\n",
    "Train Error:  0.05321100917431193\n",
    "Test Error:  0.08222811671087533\n",
    "\n",
    "3 Pass Averaged Perception\n",
    "Train Error:  0.03669724770642202\n",
    "Test Error:  0.0610079575596817\n",
    "\n",
    "4 Pass Averaged Perception\n",
    "Train Error:  0.03211009174311927\n",
    "Test Error:  0.050397877984084884"
   ]
  },
  {
   "cell_type": "markdown",
   "metadata": {},
   "source": [
    "# Question 2"
   ]
  },
  {
   "cell_type": "markdown",
   "metadata": {},
   "source": [
    "Highest coordinates and words:\n",
    "[(438, 'file'), (466, 'program'), (203, 'line')]\n",
    "\n",
    "Lowest coordinates and words:\n",
    "[(78, 'he'), (469, 'team'), (393, 'game')]"
   ]
  },
  {
   "cell_type": "markdown",
   "metadata": {},
   "source": [
    "# Question 3"
   ]
  },
  {
   "cell_type": "raw",
   "metadata": {},
   "source": [
    "Confusion Matrix:\n",
    "\n",
    "[[0.71891892 0.00520833 0.03428571 0.02173913 0.         0.        ]\n",
    " [0.01081081 0.65625    0.03428571 0.02717391 0.01282051 0.01851852]\n",
    " [0.         0.015625   0.37142857 0.         0.         0.02777778]\n",
    " [0.01621622 0.00520833 0.         0.69021739 0.         0.        ]\n",
    " [0.01621622 0.03125    0.07428571 0.00543478 0.80128205 0.12037037]\n",
    " [0.00540541 0.01041667 0.03428571 0.         0.07051282 0.49074074]\n",
    " [0.23243243 0.27604167 0.45142857 0.25543478 0.11538462 0.34259259]]"
   ]
  },
  {
   "cell_type": "markdown",
   "metadata": {},
   "source": [
    "(a) The perceptron classifier has the highest accuracy for examples that belong to class 5."
   ]
  },
  {
   "cell_type": "markdown",
   "metadata": {},
   "source": [
    "(b) The perceptron classifier has the least accuracy for examples that belong to class 3."
   ]
  },
  {
   "cell_type": "markdown",
   "metadata": {},
   "source": [
    "(c) \n",
    "The perceptron classifier most often mistakenly classifies an example in class 1 as belonging to\n",
    "class unknow.\n",
    "The perceptron classifier most often mistakenly classifies an example in class 2 as belonging to\n",
    "class 5.\n",
    "The perceptron classifier most often mistakenly classifies an example in class 3 as belonging to\n",
    "class 5.\n",
    "The perceptron classifier most often mistakenly classifies an example in class 4 as belonging to\n",
    "class 2.\n",
    "The perceptron classifier most often mistakenly classifies an example in class 5 as belonging to\n",
    "class 6.\n",
    "The perceptron classifier most often mistakenly classifies an example in class 6 as belonging to\n",
    "class 5."
   ]
  },
  {
   "cell_type": "markdown",
   "metadata": {},
   "source": [
    "# Code"
   ]
  },
  {
   "cell_type": "markdown",
   "metadata": {},
   "source": [
    "# Import Packages and Read Files "
   ]
  },
  {
   "cell_type": "code",
   "execution_count": 1,
   "metadata": {},
   "outputs": [],
   "source": [
    "import numpy as np\n",
    "import random"
   ]
  },
  {
   "cell_type": "code",
   "execution_count": 2,
   "metadata": {},
   "outputs": [],
   "source": [
    "ft = open(\"pa3train.txt\",\"r\")\n",
    "fs = open(\"pa3test.txt\",\"r\")\n",
    "fd = open(\"pa3dictionary.txt\",\"r\")\n",
    "\n",
    "train = [[int(i) for i in l.strip().split()] for l in ft]\n",
    "test = [[int(i) for i in l.strip().split()] for l in fs]\n",
    "dic = [l.strip() for l in fd]"
   ]
  },
  {
   "cell_type": "code",
   "execution_count": 3,
   "metadata": {},
   "outputs": [],
   "source": [
    "sub_train = [l for l in train if l[-1] == 1 or l[-1] == 2]\n",
    "sub_train = [l[:-1] + [-1] if l[-1] != 1 else l for l in sub_train]"
   ]
  },
  {
   "cell_type": "code",
   "execution_count": 4,
   "metadata": {},
   "outputs": [],
   "source": [
    "sub_test = [l for l in test if l[-1] == 1 or l[-1] == 2]\n",
    "sub_test = [l[:-1] + [-1] if l[-1] != 1 else l for l in sub_test]"
   ]
  },
  {
   "cell_type": "code",
   "execution_count": 5,
   "metadata": {},
   "outputs": [],
   "source": [
    "ova_train = [[l[:-1]+[1] if l[-1] == x else l[:-1]+[-1] for l in train] for x in range(1,7,1)]"
   ]
  },
  {
   "cell_type": "markdown",
   "metadata": {},
   "source": [
    "# Functions"
   ]
  },
  {
   "cell_type": "code",
   "execution_count": 6,
   "metadata": {},
   "outputs": [],
   "source": [
    "def perception(d, n):\n",
    "    length = (len(d[0]) - 1) \n",
    "    wi = [0] * length\n",
    "    d = d * n\n",
    "    \n",
    "    for i in range(len(d)):\n",
    "        xi = d[i][:-1]\n",
    "        yi = d[i][-1]\n",
    "        t = yi * np.dot(wi, xi)\n",
    "        if(t <= 0):\n",
    "            wi = np.add(wi, np.multiply(xi,yi))\n",
    "    return wi"
   ]
  },
  {
   "cell_type": "code",
   "execution_count": 7,
   "metadata": {},
   "outputs": [],
   "source": [
    "def voted_perception(d, n):\n",
    "    length = (len(d[0]) - 1) \n",
    "    wi = [0] * length\n",
    "    d = d * n\n",
    "    c = 1\n",
    "    pair = [(wi,c)]\n",
    "    \n",
    "    for i in range(len(d)):\n",
    "        xi = d[i][:-1]\n",
    "        yi = d[i][-1]\n",
    "        t = yi * np.dot(wi, xi)\n",
    "        if(t <= 0):\n",
    "            pair.append((wi,c))\n",
    "            c = 1\n",
    "            wi = np.add(wi, np.multiply(xi,yi))\n",
    "        else:\n",
    "            c += 1\n",
    "    pair.append((wi,c))\n",
    "    return pair"
   ]
  },
  {
   "cell_type": "code",
   "execution_count": 8,
   "metadata": {},
   "outputs": [],
   "source": [
    "def averaged_perception(pair):\n",
    "    return sum([np.dot(wi, ci) for wi, ci in pair])"
   ]
  },
  {
   "cell_type": "markdown",
   "metadata": {},
   "source": [
    "# Question 1"
   ]
  },
  {
   "cell_type": "code",
   "execution_count": 9,
   "metadata": {},
   "outputs": [
    {
     "name": "stdout",
     "output_type": "stream",
     "text": [
      "1 Pass Perception\n",
      "Train Error:  0.04036697247706422\n",
      "Test Error:  0.05305039787798409\n",
      "\n",
      "2 Pass Perception\n",
      "Train Error:  0.03853211009174312\n",
      "Test Error:  0.058355437665782495\n",
      "\n",
      "3 Pass Perception\n",
      "Train Error:  0.01926605504587156\n",
      "Test Error:  0.04509283819628647\n",
      "\n",
      "4 Pass Perception\n",
      "Train Error:  0.01834862385321101\n",
      "Test Error:  0.04774535809018567\n",
      "\n"
     ]
    }
   ],
   "source": [
    "for i in range(1,5):\n",
    "    w = perception(sub_train,i)\n",
    "    result_train = [1 if np.dot(l[:-1],w) > 0 else -1 \n",
    "                    if np.dot(l[:-1],w) < 0 else random.choice([-1,1]) for l in sub_train]\n",
    "    train_error = sum([result_train[i] != sub_train[i][-1] for i in range(len(sub_train))])/len(sub_train)\n",
    "    \n",
    "    result_test = [1 if np.dot(l[:-1],w) > 0 else -1 \n",
    "                   if np.dot(l[:-1],w) < 0 else random.choice([-1,1]) for l in sub_test]\n",
    "    test_error = sum([result_test[i] != sub_test[i][-1] for i in range(len(sub_test))])/len(sub_test)\n",
    "   \n",
    "    print(i, \"Pass Perception\")\n",
    "    print(\"Train Error: \",train_error)\n",
    "    print(\"Test Error: \",test_error)\n",
    "    print(\"\")"
   ]
  },
  {
   "cell_type": "code",
   "execution_count": 15,
   "metadata": {},
   "outputs": [
    {
     "name": "stdout",
     "output_type": "stream",
     "text": [
      "1 Pass Voted Perception\n",
      "Train Error:  0.06697247706422019\n",
      "Test Error:  0.08753315649867374\n",
      "\n",
      "2 Pass Voted Perception\n",
      "Train Error:  0.04036697247706422\n",
      "Test Error:  0.0610079575596817\n",
      "\n",
      "3 Pass Voted Perception\n",
      "Train Error:  0.030275229357798167\n",
      "Test Error:  0.04509283819628647\n",
      "\n",
      "4 Pass Voted Perception\n",
      "Train Error:  0.024770642201834864\n",
      "Test Error:  0.04509283819628647\n",
      "\n"
     ]
    }
   ],
   "source": [
    "for i in range(1,5):\n",
    "    pair = voted_perception(sub_train,i)\n",
    "    result_train = [sum([c if np.dot(w,l[:-1]) > 0 else -c for w,c in pair]) for l in sub_train]\n",
    "    result_train = [1 if x > 0 else -1 if x < 0 else random.choice([1,-1]) for x in result_train]\n",
    "    train_error = sum([result_train[i] != sub_train[i][-1] for i in range(len(sub_train))])/len(sub_train)\n",
    "\n",
    "    result_test = [sum([c if np.dot(w,l[:-1]) > 0 else -c for w,c in pair]) for l in sub_test]\n",
    "    result_test = [1 if x > 0 else -1 if x < 0 else random.choice([1,-1]) for x in result_test]\n",
    "    test_error = sum([result_test[i] != sub_test[i][-1] for i in range(len(sub_test))])/len(sub_test)\n",
    "    \n",
    "    print(i, \"Pass Voted Perception\")\n",
    "    print(\"Train Error: \",train_error)\n",
    "    print(\"Test Error: \",test_error)\n",
    "    print(\"\")"
   ]
  },
  {
   "cell_type": "code",
   "execution_count": 16,
   "metadata": {},
   "outputs": [
    {
     "name": "stdout",
     "output_type": "stream",
     "text": [
      "1 Pass Averaged Perception\n",
      "Train Error:  0.07889908256880734\n",
      "Test Error:  0.11671087533156499\n",
      "\n",
      "2 Pass Averaged Perception\n",
      "Train Error:  0.05321100917431193\n",
      "Test Error:  0.08222811671087533\n",
      "\n",
      "3 Pass Averaged Perception\n",
      "Train Error:  0.03669724770642202\n",
      "Test Error:  0.0610079575596817\n",
      "\n",
      "4 Pass Averaged Perception\n",
      "Train Error:  0.03211009174311927\n",
      "Test Error:  0.050397877984084884\n",
      "\n"
     ]
    }
   ],
   "source": [
    "for i in range(1,5):\n",
    "    pair = voted_perception(sub_train,i)\n",
    "    w = averaged_perception(pair)\n",
    "    result_train = [1 if np.dot(l[:-1],w) > 0 else -1 \n",
    "                    if np.dot(l[:-1],w) < 0 else random.choice([-1,1]) for l in sub_train]\n",
    "    train_error = sum([result_train[i] != sub_train[i][-1] for i in range(len(sub_train))])/len(sub_train)\n",
    "    \n",
    "    result_test = [1 if np.dot(l[:-1],w) > 0 else -1 \n",
    "                   if np.dot(l[:-1],w) < 0 else random.choice([-1,1]) for l in sub_test]\n",
    "    test_error = sum([result_test[i] != sub_test[i][-1] for i in range(len(sub_test))])/len(sub_test)\n",
    "    \n",
    "    print(i, \"Pass Averaged Perception\")\n",
    "    print(\"Train Error: \",train_error)\n",
    "    print(\"Test Error: \",test_error)\n",
    "    print(\"\")"
   ]
  },
  {
   "cell_type": "markdown",
   "metadata": {},
   "source": [
    "# Question 2"
   ]
  },
  {
   "cell_type": "code",
   "execution_count": 13,
   "metadata": {},
   "outputs": [
    {
     "name": "stdout",
     "output_type": "stream",
     "text": [
      "Most strongly positive coordinates and words:\n",
      "[(438, 'file'), (466, 'program'), (203, 'line')]\n",
      "\n",
      "Most strongly negative coordinates and words:\n",
      "[(78, 'he'), (469, 'team'), (393, 'game')]\n"
     ]
    }
   ],
   "source": [
    "pair = voted_perception(sub_train, 3)\n",
    "w = averaged_perception(pair)\n",
    "values = [(w[i], i) for i in range(len(w))]\n",
    "values = sorted(values)\n",
    "most_negative = [(l[1], dic[l[1]]) for l in values[:3]]\n",
    "values.reverse()\n",
    "most_positive = [(l[1], dic[l[1]]) for l in values[:3]]\n",
    "print(\"Most strongly positive coordinates and words:\")\n",
    "print(most_positive)\n",
    "print(\"\")\n",
    "print(\"Most strongly negative coordinates and words:\")\n",
    "print(most_negative)"
   ]
  },
  {
   "cell_type": "markdown",
   "metadata": {},
   "source": [
    "# Question 3"
   ]
  },
  {
   "cell_type": "code",
   "execution_count": 14,
   "metadata": {},
   "outputs": [
    {
     "name": "stdout",
     "output_type": "stream",
     "text": [
      "Confusion Matrix:\n",
      "\n",
      "[[0.71891892 0.00520833 0.03428571 0.02173913 0.         0.        ]\n",
      " [0.01081081 0.65625    0.03428571 0.02717391 0.01282051 0.01851852]\n",
      " [0.         0.015625   0.37142857 0.         0.         0.02777778]\n",
      " [0.01621622 0.00520833 0.         0.69021739 0.         0.        ]\n",
      " [0.01621622 0.03125    0.07428571 0.00543478 0.80128205 0.12037037]\n",
      " [0.00540541 0.01041667 0.03428571 0.         0.07051282 0.49074074]\n",
      " [0.23243243 0.27604167 0.45142857 0.25543478 0.11538462 0.34259259]]\n"
     ]
    }
   ],
   "source": [
    "classes = [perception(l,1) for l in ova_train]\n",
    "confusion_component = []\n",
    "\n",
    "for l in test:\n",
    "    t = [(np.dot(l[:-1], classes[i]) > 0) for i in range(6)]\n",
    "    if(sum(t) != True):\n",
    "        confusion_component.append((\"X\", l[-1]))\n",
    "    else:\n",
    "        confusion_component.append((t.index(1)+1, l[-1]))\n",
    "\n",
    "confusion_mat = np.zeros([7,6])\n",
    "for c in confusion_component:\n",
    "    x,y = c\n",
    "    if(x == \"X\"):\n",
    "        y -= 1\n",
    "        confusion_mat[6][y] += 1\n",
    "    else:\n",
    "        x -= 1\n",
    "        y -= 1\n",
    "        confusion_mat[x][y] += 1\n",
    "        \n",
    "N = [sum([c[-1] == i for c in confusion_component]) for i in range(1,7,1)]\n",
    "        \n",
    "for i in range(len(confusion_mat)):\n",
    "    for j in range(len(confusion_mat[0])):\n",
    "        confusion_mat[i][j] /= N[j]\n",
    "        \n",
    "print(\"Confusion Matrix:\")\n",
    "print(\"\")\n",
    "print(confusion_mat)"
   ]
  }
 ],
 "metadata": {
  "kernelspec": {
   "display_name": "Python 3",
   "language": "python",
   "name": "python3"
  },
  "language_info": {
   "codemirror_mode": {
    "name": "ipython",
    "version": 3
   },
   "file_extension": ".py",
   "mimetype": "text/x-python",
   "name": "python",
   "nbconvert_exporter": "python",
   "pygments_lexer": "ipython3",
   "version": "3.7.4"
  }
 },
 "nbformat": 4,
 "nbformat_minor": 2
}
